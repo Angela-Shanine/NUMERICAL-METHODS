{
  "nbformat": 4,
  "nbformat_minor": 0,
  "metadata": {
    "colab": {
      "name": "Python Exercise 3.ipynb",
      "provenance": [],
      "authorship_tag": "ABX9TyPvGRvlnsn6nu/zqhTuBc9N",
      "include_colab_link": true
    },
    "kernelspec": {
      "name": "python3",
      "display_name": "Python 3"
    },
    "language_info": {
      "name": "python"
    }
  },
  "cells": [
    {
      "cell_type": "markdown",
      "metadata": {
        "id": "view-in-github",
        "colab_type": "text"
      },
      "source": [
        "<a href=\"https://colab.research.google.com/github/Angela-Shanine/NUMERICAL-METHODS/blob/main/Python_Exercise_3.ipynb\" target=\"_parent\"><img src=\"https://colab.research.google.com/assets/colab-badge.svg\" alt=\"Open In Colab\"/></a>"
      ]
    },
    {
      "cell_type": "markdown",
      "metadata": {
        "id": "SbKISkZOYxQj"
      },
      "source": [
        "# Determinants of Matrix using numpy.linalg.det"
      ]
    },
    {
      "cell_type": "code",
      "metadata": {
        "id": "NAqpoQhtYeeH"
      },
      "source": [
        "import numpy as np"
      ],
      "execution_count": 2,
      "outputs": []
    },
    {
      "cell_type": "code",
      "metadata": {
        "colab": {
          "base_uri": "https://localhost:8080/"
        },
        "id": "7rZiSvJVZC2Y",
        "outputId": "0a8156d6-c201-4ba9-fe63-ea9cc3e1d406"
      },
      "source": [
        "A=np.array([[1,2,-1],\n",
        "            [4,6,-2],\n",
        "            [-1,3,3]])\n",
        "round(np.linalg.det(A))"
      ],
      "execution_count": 10,
      "outputs": [
        {
          "output_type": "execute_result",
          "data": {
            "text/plain": [
              "-14"
            ]
          },
          "metadata": {},
          "execution_count": 10
        }
      ]
    }
  ]
}