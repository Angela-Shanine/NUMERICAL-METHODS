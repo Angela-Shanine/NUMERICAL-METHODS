{
  "nbformat": 4,
  "nbformat_minor": 0,
  "metadata": {
    "colab": {
      "name": "Matrix Algebra.ipynb",
      "provenance": [],
      "authorship_tag": "ABX9TyOErfHV3eB2oXRTr8t//raD",
      "include_colab_link": true
    },
    "kernelspec": {
      "name": "python3",
      "display_name": "Python 3"
    },
    "language_info": {
      "name": "python"
    }
  },
  "cells": [
    {
      "cell_type": "markdown",
      "metadata": {
        "id": "view-in-github",
        "colab_type": "text"
      },
      "source": [
        "<a href=\"https://colab.research.google.com/github/Angela-Shanine/NUMERICAL-METHODS/blob/main/Matrix_Algebra.ipynb\" target=\"_parent\"><img src=\"https://colab.research.google.com/assets/colab-badge.svg\" alt=\"Open In Colab\"/></a>"
      ]
    },
    {
      "cell_type": "markdown",
      "metadata": {
        "id": "QITYjvFgUUke"
      },
      "source": [
        "##  Matrix and its operation\n"
      ]
    },
    {
      "cell_type": "code",
      "metadata": {
        "id": "JyrYNGhiLxjw"
      },
      "source": [
        "import numpy as np"
      ],
      "execution_count": 1,
      "outputs": []
    },
    {
      "cell_type": "markdown",
      "metadata": {
        "id": "OTo2N4oZV-gw"
      },
      "source": [
        "### Shapes"
      ]
    },
    {
      "cell_type": "code",
      "metadata": {
        "colab": {
          "base_uri": "https://localhost:8080/"
        },
        "id": "4YQL6JYUV-Ip",
        "outputId": "79ae1ae2-7121-4e90-9c1e-a4f0994571ba"
      },
      "source": [
        "A= np.array ([2 , -1 ,3,\n",
        "       1, 0, -1 ])\n",
        "A.shape"
      ],
      "execution_count": 21,
      "outputs": [
        {
          "output_type": "execute_result",
          "data": {
            "text/plain": [
              "(6,)"
            ]
          },
          "metadata": {},
          "execution_count": 21
        }
      ]
    },
    {
      "cell_type": "code",
      "metadata": {
        "colab": {
          "base_uri": "https://localhost:8080/"
        },
        "id": "PrCHelmeWHae",
        "outputId": "487eb3fe-b615-438c-a2ab-920f98d37627"
      },
      "source": [
        "B = np.array([\n",
        "    [1,2,3,4],\n",
        "    [1,0,2,1],\n",
        "])\n",
        "B.shape"
      ],
      "execution_count": 27,
      "outputs": [
        {
          "output_type": "execute_result",
          "data": {
            "text/plain": [
              "(2, 4)"
            ]
          },
          "metadata": {},
          "execution_count": 27
        }
      ]
    },
    {
      "cell_type": "code",
      "metadata": {
        "colab": {
          "base_uri": "https://localhost:8080/"
        },
        "id": "Gosq5HHjYw1c",
        "outputId": "32eb644d-f06a-40c2-e92f-6d5a79754317"
      },
      "source": [
        "C = np.array([\n",
        "    [1,2,3,4],\n",
        "    [1,0,2,1],\n",
        "    [1,6,7,5]\n",
        "])\n",
        "C.shape"
      ],
      "execution_count": 38,
      "outputs": [
        {
          "output_type": "execute_result",
          "data": {
            "text/plain": [
              "(3, 4)"
            ]
          },
          "metadata": {},
          "execution_count": 38
        }
      ]
    },
    {
      "cell_type": "markdown",
      "metadata": {
        "id": "qV5ZCTKjUuXk"
      },
      "source": [
        "### Addition"
      ]
    },
    {
      "cell_type": "code",
      "metadata": {
        "colab": {
          "base_uri": "https://localhost:8080/"
        },
        "id": "Gr9NE-FOQzyV",
        "outputId": "30b5ee66-8847-45a3-ab74-50154e4806c5"
      },
      "source": [
        "A= np.array ([2 , -1 ,3,\n",
        "       1, 0, -1 ])\n",
        "B = np.array([0 ,0,0, \n",
        "     0 , 0 ,0])\n",
        "\n",
        "A + B # The sum of the two array (A and B)"
      ],
      "execution_count": 10,
      "outputs": [
        {
          "output_type": "execute_result",
          "data": {
            "text/plain": [
              "array([ 2, -1,  3,  1,  0, -1])"
            ]
          },
          "metadata": {},
          "execution_count": 10
        }
      ]
    },
    {
      "cell_type": "code",
      "metadata": {
        "colab": {
          "base_uri": "https://localhost:8080/"
        },
        "id": "zEFwrcaHVamn",
        "outputId": "28f5cc97-005d-47bd-df63-d37b307b41aa"
      },
      "source": [
        "A= np.array ([4 , -1,\n",
        "       6, -3 ])\n",
        "B = np.array([-6 , -5, \n",
        "     7 ,3])\n",
        "\n",
        "A + B"
      ],
      "execution_count": 16,
      "outputs": [
        {
          "output_type": "execute_result",
          "data": {
            "text/plain": [
              "array([-2, -6, 13,  0])"
            ]
          },
          "metadata": {},
          "execution_count": 16
        }
      ]
    },
    {
      "cell_type": "markdown",
      "metadata": {
        "id": "kAtqK71hVWlw"
      },
      "source": [
        "### Subtraction\n"
      ]
    },
    {
      "cell_type": "code",
      "metadata": {
        "colab": {
          "base_uri": "https://localhost:8080/"
        },
        "id": "lo-4qZtcR7yn",
        "outputId": "b667ac7c-71c7-4062-d348-7dc12cccad8f"
      },
      "source": [
        "A= np.array ([1 , 2,\n",
        "              -2 , 0,\n",
        "               -3, -1 ])\n",
        "B = np.array([1, -1 ,\n",
        "              1, 3,\n",
        "               2,3])\n",
        "\n",
        "A-B"
      ],
      "execution_count": 14,
      "outputs": [
        {
          "output_type": "execute_result",
          "data": {
            "text/plain": [
              "array([ 0,  3, -3, -3, -5, -4])"
            ]
          },
          "metadata": {},
          "execution_count": 14
        }
      ]
    },
    {
      "cell_type": "code",
      "metadata": {
        "colab": {
          "base_uri": "https://localhost:8080/"
        },
        "id": "D4D-ecn4SfzR",
        "outputId": "35bd0946-9963-46c6-b79c-4ea1d59b3620"
      },
      "source": [
        "A= np.array ([4 , -1,\n",
        "       6, -3 ])\n",
        "B = np.array([-6 , -5, \n",
        "     7 ,3])\n",
        "\n",
        "A - B"
      ],
      "execution_count": 17,
      "outputs": [
        {
          "output_type": "execute_result",
          "data": {
            "text/plain": [
              "array([10,  4, -1, -6])"
            ]
          },
          "metadata": {},
          "execution_count": 17
        }
      ]
    },
    {
      "cell_type": "markdown",
      "metadata": {
        "id": "AQJoBovmVQ0Q"
      },
      "source": [
        "### Transpose"
      ]
    },
    {
      "cell_type": "code",
      "metadata": {
        "colab": {
          "base_uri": "https://localhost:8080/"
        },
        "id": "0Pfx0jDZSv-c",
        "outputId": "226c6956-bb6a-4e6a-df65-8ab24d4ca8ab"
      },
      "source": [
        "A = np.array([\n",
        "    [1 ,2, 5],\n",
        "    [5, -1, 0],\n",
        "    [0, -3, 3]\n",
        "])\n",
        "A\n",
        "\n",
        "AT1 = np.transpose(A)\n",
        "AT1"
      ],
      "execution_count": 20,
      "outputs": [
        {
          "output_type": "execute_result",
          "data": {
            "text/plain": [
              "array([[ 1,  5,  0],\n",
              "       [ 2, -1, -3],\n",
              "       [ 5,  0,  3]])"
            ]
          },
          "metadata": {},
          "execution_count": 20
        }
      ]
    },
    {
      "cell_type": "markdown",
      "metadata": {
        "id": "tWqYQ7RaYZN2"
      },
      "source": [
        "### EYE\n"
      ]
    },
    {
      "cell_type": "code",
      "metadata": {
        "colab": {
          "base_uri": "https://localhost:8080/"
        },
        "id": "DEf0mRt7YYwU",
        "outputId": "41b5c61a-d882-4c0b-f553-7b912ff526c9"
      },
      "source": [
        "e=np.eye (2)\n",
        "e"
      ],
      "execution_count": 36,
      "outputs": [
        {
          "output_type": "execute_result",
          "data": {
            "text/plain": [
              "array([[1., 0.],\n",
              "       [0., 1.]])"
            ]
          },
          "metadata": {},
          "execution_count": 36
        }
      ]
    },
    {
      "cell_type": "code",
      "metadata": {
        "colab": {
          "base_uri": "https://localhost:8080/"
        },
        "id": "cUukYzMxYl-E",
        "outputId": "602bcb46-08c0-46b8-8044-84e0a04dece0"
      },
      "source": [
        "e=np.eye (8)\n",
        "e"
      ],
      "execution_count": 37,
      "outputs": [
        {
          "output_type": "execute_result",
          "data": {
            "text/plain": [
              "array([[1., 0., 0., 0., 0., 0., 0., 0.],\n",
              "       [0., 1., 0., 0., 0., 0., 0., 0.],\n",
              "       [0., 0., 1., 0., 0., 0., 0., 0.],\n",
              "       [0., 0., 0., 1., 0., 0., 0., 0.],\n",
              "       [0., 0., 0., 0., 1., 0., 0., 0.],\n",
              "       [0., 0., 0., 0., 0., 1., 0., 0.],\n",
              "       [0., 0., 0., 0., 0., 0., 1., 0.],\n",
              "       [0., 0., 0., 0., 0., 0., 0., 1.]])"
            ]
          },
          "metadata": {},
          "execution_count": 37
        }
      ]
    },
    {
      "cell_type": "markdown",
      "metadata": {
        "id": "OIGaZllfXHau"
      },
      "source": [
        "### Dot Product"
      ]
    },
    {
      "cell_type": "code",
      "metadata": {
        "colab": {
          "base_uri": "https://localhost:8080/"
        },
        "id": "go0iImM7WwXd",
        "outputId": "ba411855-2939-46f2-c10c-28451cfea15e"
      },
      "source": [
        "A = np.array([\n",
        "    [1,2],\n",
        "    [0,1]\n",
        "])\n",
        "B = np.array([\n",
        "    [-1,0],\n",
        "    [2,2]\n",
        "])\n",
        "np.dot(A,B)"
      ],
      "execution_count": 29,
      "outputs": [
        {
          "output_type": "execute_result",
          "data": {
            "text/plain": [
              "array([[3, 4],\n",
              "       [2, 2]])"
            ]
          },
          "metadata": {},
          "execution_count": 29
        }
      ]
    },
    {
      "cell_type": "markdown",
      "metadata": {
        "id": "uKrZi8RAZRme"
      },
      "source": [
        "### Diagonal"
      ]
    },
    {
      "cell_type": "code",
      "metadata": {
        "colab": {
          "base_uri": "https://localhost:8080/"
        },
        "id": "tVSlC79aY-8b",
        "outputId": "ae0c4e79-2d8e-4bbe-9137-f1d184fb0968"
      },
      "source": [
        "e = np.diagonal([\n",
        "    [1,2,3],\n",
        "    [1,0,2],\n",
        "    [1,6,7]\n",
        "])\n",
        "e"
      ],
      "execution_count": 39,
      "outputs": [
        {
          "output_type": "execute_result",
          "data": {
            "text/plain": [
              "array([1, 0, 7])"
            ]
          },
          "metadata": {},
          "execution_count": 39
        }
      ]
    },
    {
      "cell_type": "code",
      "metadata": {
        "colab": {
          "base_uri": "https://localhost:8080/"
        },
        "id": "S5NbQaVWZx3l",
        "outputId": "585a94af-27ea-4a60-9fb9-01899ed38fd4"
      },
      "source": [
        "A = np.diagonal([\n",
        "    [1,2,3],\n",
        "    [4,5,6],\n",
        "    [7,8,9]\n",
        "])\n",
        "A"
      ],
      "execution_count": 40,
      "outputs": [
        {
          "output_type": "execute_result",
          "data": {
            "text/plain": [
              "array([1, 5, 9])"
            ]
          },
          "metadata": {},
          "execution_count": 40
        }
      ]
    },
    {
      "cell_type": "markdown",
      "metadata": {
        "id": "vBfliKzuaDJq"
      },
      "source": [
        "### Empty"
      ]
    },
    {
      "cell_type": "code",
      "metadata": {
        "colab": {
          "base_uri": "https://localhost:8080/"
        },
        "id": "6TiQfbHSaILz",
        "outputId": "6e1cda59-bf60-43fb-9b41-0d9fe4ccdcdd"
      },
      "source": [
        "A = np.empty([0,4])\n",
        "A"
      ],
      "execution_count": 48,
      "outputs": [
        {
          "output_type": "execute_result",
          "data": {
            "text/plain": [
              "array([], shape=(0, 4), dtype=float64)"
            ]
          },
          "metadata": {},
          "execution_count": 48
        }
      ]
    },
    {
      "cell_type": "code",
      "metadata": {
        "colab": {
          "base_uri": "https://localhost:8080/"
        },
        "id": "kTm4k5Qbabmk",
        "outputId": "cff81537-cb64-4dd5-e83d-fe0b523ae7f2"
      },
      "source": [
        "A = np.empty([0,0,3])\n",
        "A"
      ],
      "execution_count": 49,
      "outputs": [
        {
          "output_type": "execute_result",
          "data": {
            "text/plain": [
              "array([], shape=(0, 0, 3), dtype=float64)"
            ]
          },
          "metadata": {},
          "execution_count": 49
        }
      ]
    },
    {
      "cell_type": "markdown",
      "metadata": {
        "id": "_ugqr_TUad6C"
      },
      "source": [
        "### Zeroes"
      ]
    },
    {
      "cell_type": "code",
      "metadata": {
        "colab": {
          "base_uri": "https://localhost:8080/"
        },
        "id": "Hy-E3cygahdb",
        "outputId": "b8e2b95e-33b2-4451-9fea-31dafdb0a553"
      },
      "source": [
        "A = np.array([\n",
        "    [3,2,1],\n",
        "    [4,5,1],\n",
        "    [1,1,0]\n",
        "])\n",
        "B = np.array([\n",
        "    [4,1,6],\n",
        "    [4,1,9],\n",
        "    [1,4,8]\n",
        "])\n",
        "A.dot(np.zeros(A.shape))"
      ],
      "execution_count": 50,
      "outputs": [
        {
          "output_type": "execute_result",
          "data": {
            "text/plain": [
              "array([[0., 0., 0.],\n",
              "       [0., 0., 0.],\n",
              "       [0., 0., 0.]])"
            ]
          },
          "metadata": {},
          "execution_count": 50
        }
      ]
    }
  ]
}