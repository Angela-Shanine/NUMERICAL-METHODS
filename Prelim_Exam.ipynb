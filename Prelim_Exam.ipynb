{
  "nbformat": 4,
  "nbformat_minor": 0,
  "metadata": {
    "colab": {
      "name": "Prelim Exam.ipynb",
      "provenance": [],
      "authorship_tag": "ABX9TyMYuShLWDyezl1/0+CyLOpH",
      "include_colab_link": true
    },
    "kernelspec": {
      "name": "python3",
      "display_name": "Python 3"
    },
    "language_info": {
      "name": "python"
    }
  },
  "cells": [
    {
      "cell_type": "markdown",
      "metadata": {
        "id": "view-in-github",
        "colab_type": "text"
      },
      "source": [
        "<a href=\"https://colab.research.google.com/github/Angela-Shanine/NUMERICAL-METHODS/blob/main/Prelim_Exam.ipynb\" target=\"_parent\"><img src=\"https://colab.research.google.com/assets/colab-badge.svg\" alt=\"Open In Colab\"/></a>"
      ]
    },
    {
      "cell_type": "markdown",
      "metadata": {
        "id": "rn8MXdfVQlxh"
      },
      "source": [
        "# PRELIM EXAM \n"
      ]
    },
    {
      "cell_type": "code",
      "metadata": {
        "id": "xdZDXkDTQm1A"
      },
      "source": [
        "import numpy as np"
      ],
      "execution_count": null,
      "outputs": []
    },
    {
      "cell_type": "code",
      "metadata": {
        "colab": {
          "base_uri": "https://localhost:8080/"
        },
        "id": "ZsVZfIdHQ2vY",
        "outputId": "02e092e8-920d-458b-e40a-3af85b7092df"
      },
      "source": [
        "CH = np.array([[1,2,3],\n",
        "               [2,3,3],\n",
        "               [3,4,-2]])\n",
        "\n",
        "round(np.linalg.det(CH))"
      ],
      "execution_count": null,
      "outputs": [
        {
          "output_type": "execute_result",
          "data": {
            "text/plain": [
              "5"
            ]
          },
          "metadata": {},
          "execution_count": 7
        }
      ]
    }
  ]
}