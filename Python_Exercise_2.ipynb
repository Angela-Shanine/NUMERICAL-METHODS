{
  "nbformat": 4,
  "nbformat_minor": 0,
  "metadata": {
    "colab": {
      "name": "Python Exercise 2.ipynb",
      "provenance": [],
      "toc_visible": true,
      "authorship_tag": "ABX9TyMH9X0Y7FeDz9a9O0h89Q/w",
      "include_colab_link": true
    },
    "kernelspec": {
      "name": "python3",
      "display_name": "Python 3"
    },
    "language_info": {
      "name": "python"
    }
  },
  "cells": [
    {
      "cell_type": "markdown",
      "metadata": {
        "id": "view-in-github",
        "colab_type": "text"
      },
      "source": [
        "<a href=\"https://colab.research.google.com/github/Angela-Shanine/NUMERICAL-METHODS/blob/main/Python_Exercise_2.ipynb\" target=\"_parent\"><img src=\"https://colab.research.google.com/assets/colab-badge.svg\" alt=\"Open In Colab\"/></a>"
      ]
    },
    {
      "cell_type": "markdown",
      "metadata": {
        "id": "XPoRn9pWgMOo"
      },
      "source": [
        "## <center> Matrix and Its Operations"
      ]
    },
    {
      "cell_type": "code",
      "metadata": {
        "id": "09EJjyfua8lp"
      },
      "source": [
        "import numpy as np"
      ],
      "execution_count": 3,
      "outputs": []
    },
    {
      "cell_type": "markdown",
      "metadata": {
        "id": "7IFxdLOKddeU"
      },
      "source": [
        "Create a NumPy program that performs the operations of the given matrices:\n",
        "\n",
        "1. *sum = A +B*\n",
        "2. *difference1 = B - A*\n",
        "3. *difference2 = A - B* \n",
        "\n",
        "$$A = \\begin{bmatrix}\n",
        "-5&0\\\\\n",
        "4&1\\\\\n",
        "\\end{bmatrix}$$ \n",
        "\n",
        "\n",
        "$$B = \\begin{bmatrix}\n",
        "6 & -3\\\\\n",
        "2 & 3\\\\\n",
        "\\end{bmatrix}$$"
      ]
    },
    {
      "cell_type": "markdown",
      "metadata": {
        "id": "4DqwzEhrbEuY"
      },
      "source": [
        "### SUM"
      ]
    },
    {
      "cell_type": "code",
      "metadata": {
        "colab": {
          "base_uri": "https://localhost:8080/"
        },
        "id": "bmPXU-oSbDcI",
        "outputId": "5aee8d5b-ad47-4d5c-9dee-345d2cd06933"
      },
      "source": [
        "A = np.array ([-5 , 0,\n",
        "              4 , 1])\n",
        "B = np.array ([6 , -3,\n",
        "              2 , 3])\n",
        "s = A + B\n",
        "print (\"The sum of matrix A and B would be: \", s ) \n",
        "      "
      ],
      "execution_count": 13,
      "outputs": [
        {
          "output_type": "stream",
          "name": "stdout",
          "text": [
            "The sum of matrix A and B would be:  [ 1 -3  6  4]\n"
          ]
        }
      ]
    },
    {
      "cell_type": "markdown",
      "metadata": {
        "id": "j31nKbIubvAh"
      },
      "source": [
        "### DIFFERENCE"
      ]
    },
    {
      "cell_type": "code",
      "metadata": {
        "colab": {
          "base_uri": "https://localhost:8080/"
        },
        "id": "M3HjkAH_bz8p",
        "outputId": "6de3b5f4-8cb3-4142-e102-adf560acc02f"
      },
      "source": [
        "A = np.array ([-5 , 0,\n",
        "              4 , 1])\n",
        "B = np.array ([6 , -3,\n",
        "              2 , 3])\n",
        "\n",
        "s = B - A\n",
        "print (\"The Difference of matrix B and A would be: \", s ) "
      ],
      "execution_count": 14,
      "outputs": [
        {
          "output_type": "stream",
          "name": "stdout",
          "text": [
            "The Difference of matrix B and A would be:  [11 -3 -2  2]\n"
          ]
        }
      ]
    },
    {
      "cell_type": "code",
      "metadata": {
        "colab": {
          "base_uri": "https://localhost:8080/"
        },
        "id": "D3Qf6_bcb8ti",
        "outputId": "db10021f-3da1-4b66-fcdf-5f53ed76da98"
      },
      "source": [
        "A = np.array ([-5 , 0,\n",
        "              4 , 1])\n",
        "B = np.array ([6 , -3,\n",
        "              2 , 3])\n",
        "\n",
        "s= A - B\n",
        "print (\"The Difference of matrix A and B would be: \", s ) "
      ],
      "execution_count": 15,
      "outputs": [
        {
          "output_type": "stream",
          "name": "stdout",
          "text": [
            "The Difference of matrix A and B would be:  [-11   3   2  -2]\n"
          ]
        }
      ]
    }
  ]
}