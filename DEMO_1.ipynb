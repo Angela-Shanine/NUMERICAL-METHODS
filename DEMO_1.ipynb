{
  "nbformat": 4,
  "nbformat_minor": 0,
  "metadata": {
    "colab": {
      "name": "DEMO 1.ipynb",
      "provenance": []
    },
    "kernelspec": {
      "name": "python3",
      "display_name": "Python 3"
    },
    "language_info": {
      "name": "python"
    }
  },
  "cells": [
    {
      "cell_type": "markdown",
      "metadata": {
        "id": "VhC3-M3NO30h"
      },
      "source": [
        "# Introduction in Python"
      ]
    },
    {
      "cell_type": "code",
      "metadata": {
        "colab": {
          "base_uri": "https://localhost:8080/",
          "height": 35
        },
        "id": "AcGBSUDUXMHn",
        "outputId": "574249e7-6e26-4474-debf-b79e020605b2"
      },
      "source": [
        "b=\"sally\"\n",
        "b"
      ],
      "execution_count": 23,
      "outputs": [
        {
          "output_type": "execute_result",
          "data": {
            "application/vnd.google.colaboratory.intrinsic+json": {
              "type": "string"
            },
            "text/plain": [
              "'sally'"
            ]
          },
          "metadata": {},
          "execution_count": 23
        }
      ]
    },
    {
      "cell_type": "code",
      "metadata": {
        "colab": {
          "base_uri": "https://localhost:8080/"
        },
        "id": "jjIe24npVSl0",
        "outputId": "b1f039bd-074b-4dc0-eeb9-b2a5b4fae8b5"
      },
      "source": [
        "b=\"sally\"\n",
        "b= int(4)\n",
        "b"
      ],
      "execution_count": 20,
      "outputs": [
        {
          "output_type": "execute_result",
          "data": {
            "text/plain": [
              "4"
            ]
          },
          "metadata": {},
          "execution_count": 20
        }
      ]
    },
    {
      "cell_type": "code",
      "metadata": {
        "colab": {
          "base_uri": "https://localhost:8080/"
        },
        "id": "08VPLODdXJC3",
        "outputId": "bd928f64-a291-4b47-e95a-89eef461a312"
      },
      "source": [
        "b=\"sally\"\n",
        "b= float(4)\n",
        "b"
      ],
      "execution_count": 21,
      "outputs": [
        {
          "output_type": "execute_result",
          "data": {
            "text/plain": [
              "4.0"
            ]
          },
          "metadata": {},
          "execution_count": 21
        }
      ]
    },
    {
      "cell_type": "code",
      "metadata": {
        "colab": {
          "base_uri": "https://localhost:8080/"
        },
        "id": "Iy9FGu7BXR3P",
        "outputId": "1db162de-fbb1-4098-8127-8e5931d20f56"
      },
      "source": [
        "x= \"enjoying\"\n",
        "print(\"Python programming is \" + x)"
      ],
      "execution_count": 24,
      "outputs": [
        {
          "output_type": "stream",
          "text": [
            "Python programming is enjoying\n"
          ],
          "name": "stdout"
        }
      ]
    },
    {
      "cell_type": "code",
      "metadata": {
        "colab": {
          "base_uri": "https://localhost:8080/"
        },
        "id": "06KKXJ5hYiKA",
        "outputId": "823b181d-f1fc-4ba8-8cf2-79b97df9c20c"
      },
      "source": [
        "x= \"enjoying\"\n",
        "y=\"Python programming is \" \n",
        "print (y + x)"
      ],
      "execution_count": 29,
      "outputs": [
        {
          "output_type": "stream",
          "text": [
            "Python programming is enjoying\n"
          ],
          "name": "stdout"
        }
      ]
    },
    {
      "cell_type": "code",
      "metadata": {
        "id": "hW3b6AQUBgwx",
        "colab": {
          "base_uri": "https://localhost:8080/"
        },
        "outputId": "ce707b87-416a-467e-d4ea-54d7c1611496"
      },
      "source": [
        "x= 3\n",
        "y= 5\n",
        "sum = x + y \n",
        "print(sum)\n",
        "\n",
        "compare = x > y \n",
        "print(compare)\n",
        "\n",
        "comparee = x < y \n",
        "print(comparee)"
      ],
      "execution_count": 27,
      "outputs": [
        {
          "output_type": "stream",
          "text": [
            "8\n",
            "False\n",
            "True\n"
          ],
          "name": "stdout"
        }
      ]
    },
    {
      "cell_type": "code",
      "metadata": {
        "colab": {
          "base_uri": "https://localhost:8080/"
        },
        "id": "GZBGB36GXjun",
        "outputId": "715442d6-01ee-49f9-eee5-143cffa0290a"
      },
      "source": [
        "x<x and y>y"
      ],
      "execution_count": 25,
      "outputs": [
        {
          "output_type": "execute_result",
          "data": {
            "text/plain": [
              "False"
            ]
          },
          "metadata": {},
          "execution_count": 25
        }
      ]
    },
    {
      "cell_type": "code",
      "metadata": {
        "colab": {
          "base_uri": "https://localhost:8080/"
        },
        "id": "HdBBF_28Xl2O",
        "outputId": "1b0283d4-087c-4e41-9dbf-8bab30de0da9"
      },
      "source": [
        "x is not y"
      ],
      "execution_count": 26,
      "outputs": [
        {
          "output_type": "execute_result",
          "data": {
            "text/plain": [
              "True"
            ]
          },
          "metadata": {},
          "execution_count": 26
        }
      ]
    },
    {
      "cell_type": "code",
      "metadata": {
        "colab": {
          "base_uri": "https://localhost:8080/"
        },
        "id": "Jq7xIqw5BpRQ",
        "outputId": "68f21d16-9b89-4de4-afda-08d55ca7c3a4"
      },
      "source": [
        "a,b,c = 0, -1,5\n",
        "c%=2\n",
        "c"
      ],
      "execution_count": 15,
      "outputs": [
        {
          "output_type": "execute_result",
          "data": {
            "text/plain": [
              "1"
            ]
          },
          "metadata": {},
          "execution_count": 15
        }
      ]
    }
  ]
}