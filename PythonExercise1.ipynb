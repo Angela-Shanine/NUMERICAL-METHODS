{
  "nbformat": 4,
  "nbformat_minor": 0,
  "metadata": {
    "colab": {
      "name": "PythonExercise1.ipynb",
      "provenance": [],
      "authorship_tag": "ABX9TyMpX+U8i9gut0GIxqx3yNQQ",
      "include_colab_link": true
    },
    "kernelspec": {
      "name": "python3",
      "display_name": "Python 3"
    },
    "language_info": {
      "name": "python"
    }
  },
  "cells": [
    {
      "cell_type": "markdown",
      "metadata": {
        "id": "view-in-github",
        "colab_type": "text"
      },
      "source": [
        "<a href=\"https://colab.research.google.com/github/Angela-Shanine/NUMERICAL-METHODS/blob/main/PythonExercise1.ipynb\" target=\"_parent\"><img src=\"https://colab.research.google.com/assets/colab-badge.svg\" alt=\"Open In Colab\"/></a>"
      ]
    },
    {
      "cell_type": "markdown",
      "metadata": {
        "id": "pCT2BU1EYfVS"
      },
      "source": [
        "###### ESCOBAR, ANGELA SHANINE G.\n",
        "\n",
        "***Create a program using python that allows the student to type his/her name , the name of the course , and that computes his/her semestral grade. (30% x PG, 30% x MG , 40% x FG)***"
      ]
    },
    {
      "cell_type": "code",
      "metadata": {
        "colab": {
          "base_uri": "https://localhost:8080/"
        },
        "id": "BsVtrzMgYgx6",
        "outputId": "178b89d6-c792-4d5e-8639-4c681ab6aade"
      },
      "source": [
        "name = input(\"Full Name: \")\n",
        "course = input(\"Course: \")\n",
        "prelimg = float(input(\"\\nEnter Prelim grade: \"))\n",
        "midtermg = float(input(\"Enter Midterm grade: \"))\n",
        "finalsg = float(input(\"Enter Finals grade: \"))\n",
        "semestral_grade = (prelimg*0.30) + (midtermg*0.30) + (finalsg*0.40)\n",
        "if semestral_grade >= 70:\n",
        "  print(\"\\nHello {}! Your semestral grade in this course would be: {:} \".format(name, semestral_grade))\n",
        "elif semestral_grade == 70:\n",
        "  print(\"\\nHello {}! Your semestral grade in this course would be: {:} \".format(name, semestral_grade))\n",
        "elif semestral_grade <= 69:\n",
        "  print(\"\\nHello {}! Your semestral grade in this course would be: {:} \".format(name, semestral_grade))"
      ],
      "execution_count": 11,
      "outputs": [
        {
          "output_type": "stream",
          "text": [
            "Full Name: Angela Shanine G. Escobar\n",
            "Course: CpE\n",
            "\n",
            "Enter Prelim grade: 60.89\n",
            "Enter Midterm grade: 90.70\n",
            "Enter Finals grade: 80.89\n",
            "\n",
            "Hello Angela Shanine G. Escobar! Your semestral grade in this course would be: 77.833 \n"
          ],
          "name": "stdout"
        }
      ]
    }
  ]
}